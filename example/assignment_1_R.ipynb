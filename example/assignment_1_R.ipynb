{
 "cells": [
  {
   "cell_type": "markdown",
   "metadata": {},
   "source": [
    "<center><h1> Assignment 1</h1></center>"
   ]
  },
  {
   "cell_type": "markdown",
   "metadata": {},
   "source": [
    "**Author(s):**\n",
    "1. Author 1 (your_name_1@your_university.edu)\n",
    "2. Author 2 (your_name_2@your_university.edu)"
   ]
  },
  {
   "cell_type": "markdown",
   "metadata": {},
   "source": [
    "**Objectives**: This <ins>replication</ins> exercise aims at\n",
    " 1. Making students comfortable using *Jupyter Notebook* to kickstart an empirical project;\n",
    " 2. Use *GitHub* to retrieve and submit computer code."
   ]
  },
  {
   "cell_type": "markdown",
   "metadata": {},
   "source": [
    "**Instructions**: This replication exercise is based on the material in Sections 2.2, 2.3, and 2.5 in Bruce Hansen's [Econometrics Lecture Notes](http://www.ssc.wisc.edu/~bhansen/econometrics/Econometrics.pdf). Please write down your code and <ins>execute</ins> it in the cell below each question. _Full_ marks will not be given for just correct answers, but for elegance, proper documentation, and practicality."
   ]
  },
  {
   "cell_type": "markdown",
   "metadata": {},
   "source": [
    "<center><h2> Questions</h2></center>"
   ]
  },
  {
   "cell_type": "markdown",
   "metadata": {},
   "source": [
    "1. Load the data _directly_ from the internet, and create a local copy called ```datos```."
   ]
  },
  {
   "cell_type": "code",
   "execution_count": null,
   "metadata": {},
   "outputs": [],
   "source": []
  },
  {
   "cell_type": "markdown",
   "metadata": {},
   "source": [
    "2. Pre-process the data and construct the variables ```wage``` and ```lwage``` (as $\\log(\\texttt{wage})$) as extra variables in your local copy of the data set (you called this ```datos``` above) you downloaded in the previous part. **Hint**: Read the data description and the Stata code in Section 3.25 (page 94) in Bruce Hansen's [Econometrics Lecture Notes](http://www.ssc.wisc.edu/~bhansen/econometrics/Econometrics.pdf)."
   ]
  },
  {
   "cell_type": "code",
   "execution_count": null,
   "metadata": {},
   "outputs": [],
   "source": []
  },
  {
   "cell_type": "markdown",
   "metadata": {},
   "source": [
    "3. Verify that an _estimate_ of $E[\\log(\\texttt{wage})]$ is $2.95$, i.e., ask your code to print your estimate."
   ]
  },
  {
   "cell_type": "code",
   "execution_count": null,
   "metadata": {},
   "outputs": [],
   "source": []
  },
  {
   "cell_type": "markdown",
   "metadata": {},
   "source": [
    "4. Replicate \"Table 2.1: Mean Log Wages by Sex and Race\" (page 16) in Bruce Hansen's [Econometrics Lecture Notes](http://www.ssc.wisc.edu/~bhansen/econometrics/Econometrics.pdf), i.e., you are expected to provide a formatted table 'as is' printed in Bruce Hansen's [Econometrics Lecture Notes](http://www.ssc.wisc.edu/~bhansen/econometrics/Econometrics.pdf) or as close as possible."
   ]
  },
  {
   "cell_type": "code",
   "execution_count": null,
   "metadata": {},
   "outputs": [],
   "source": []
  },
  {
   "cell_type": "markdown",
   "metadata": {},
   "source": [
    "5. Replicate \"Figure 2.5: Mean Log Wage as a Function of Years of Education\" (page 18) in Bruce Hansen's [Econometrics Lecture Notes](http://www.ssc.wisc.edu/~bhansen/econometrics/Econometrics.pdf) as is."
   ]
  },
  {
   "cell_type": "code",
   "execution_count": null,
   "metadata": {},
   "outputs": [],
   "source": []
  }
 ],
 "metadata": {
  "kernelspec": {
   "display_name": "R",
   "language": "R",
   "name": "ir"
  },
  "language_info": {
   "codemirror_mode": "r",
   "file_extension": ".r",
   "mimetype": "text/x-r-source",
   "name": "R",
   "pygments_lexer": "r",
   "version": "3.6.1"
  },
  "latex_envs": {
   "LaTeX_envs_menu_present": true,
   "autoclose": false,
   "autocomplete": true,
   "bibliofile": "biblio.bib",
   "cite_by": "apalike",
   "current_citInitial": 1,
   "eqLabelWithNumbers": true,
   "eqNumInitial": 1,
   "hotkeys": {
    "equation": "Ctrl-E",
    "itemize": "Ctrl-I"
   },
   "labels_anchors": false,
   "latex_user_defs": false,
   "report_style_numbering": false,
   "user_envs_cfg": false
  }
 },
 "nbformat": 4,
 "nbformat_minor": 2
}
